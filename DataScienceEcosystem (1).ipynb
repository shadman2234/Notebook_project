{
 "cells": [
  {
   "cell_type": "markdown",
   "id": "057c4045-5612-4b33-aeaa-56cb3908f591",
   "metadata": {},
   "source": [
    "<h1>Data Science Tools and Ecosystem<h1>"
   ]
  },
  {
   "cell_type": "markdown",
   "id": "9b183019-b696-4c40-8aac-647a30b42121",
   "metadata": {},
   "source": [
    "In this notebook, Data Science Tools and Ecosystems are summerized"
   ]
  },
  {
   "cell_type": "markdown",
   "id": "6b8fe447-9297-4e5c-b9be-3dec0a4e63af",
   "metadata": {},
   "source": [
    "<b>Objectives</b>\n",
    "<ul>\n",
    "<li>Data science languages</li>\n",
    "<li>Data science libraries</li>\n",
    "<li>Etiditing Jupyter notebooks</li>\n",
    "    \n",
    "</ul>"
   ]
  },
  {
   "cell_type": "markdown",
   "id": "c32a32fb-210c-4c47-a324-2c524084f776",
   "metadata": {},
   "source": [
    "Some of the popular languages that data scientists use are:\n",
    "<ol>\n",
    "<li>R</li>\n",
    "<li>Python</li>\n",
    "<li>Scala</li>\n",
    "<ol>"
   ]
  },
  {
   "cell_type": "markdown",
   "id": "5d7183ec-43f3-4128-a131-9f258776d0b8",
   "metadata": {},
   "source": [
    "Some of the common libraries used by data scientists are:\n",
    "<ol>\n",
    "<li>Pandas</li>\n",
    "<li>Numpy</li>\n",
    "<li>Scikit-Learn</li>\n",
    "</ol>"
   ]
  },
  {
   "cell_type": "markdown",
   "id": "b7537dd2-2e80-4790-97c2-3491b3678753",
   "metadata": {},
   "source": [
    "|Data Science Tools|\n",
    "|------------------|\n",
    "|Jupyter Notebooks|\n",
    "|VS Code|\n",
    "|RStudio|"
   ]
  },
  {
   "cell_type": "markdown",
   "id": "e49be68e-b56f-4695-aad6-fc43d8d74e34",
   "metadata": {},
   "source": [
    "<h4>Below are a few examples of evaluating arithmetic expressions in Python</h4>"
   ]
  },
  {
   "cell_type": "code",
   "execution_count": 4,
   "id": "0c2641ec-e565-4300-b276-84ebacf157e5",
   "metadata": {},
   "outputs": [
    {
     "data": {
      "text/plain": [
       "17"
      ]
     },
     "execution_count": 4,
     "metadata": {},
     "output_type": "execute_result"
    }
   ],
   "source": [
    "#This is a simple arithmetic expression to multiply then add integers\n",
    "(3*4)+5"
   ]
  },
  {
   "cell_type": "code",
   "execution_count": 5,
   "id": "baed156b-ef6a-48c3-941b-91e0a5e7e8f3",
   "metadata": {},
   "outputs": [
    {
     "data": {
      "text/plain": [
       "3.3333333333333335"
      ]
     },
     "execution_count": 5,
     "metadata": {},
     "output_type": "execute_result"
    }
   ],
   "source": [
    "#This will convert 200 minutes to hours by dividing by 60\n",
    "200/60"
   ]
  },
  {
   "cell_type": "markdown",
   "id": "64dc37fa-fbec-4400-9e6a-33877645c8bd",
   "metadata": {},
   "source": [
    "<h2>Author</h2>\n",
    "Quazi Shadman"
   ]
  },
  {
   "cell_type": "code",
   "execution_count": null,
   "id": "be153a22-86a5-43c1-8c34-2e1d5375f24b",
   "metadata": {},
   "outputs": [],
   "source": []
  },
  {
   "cell_type": "code",
   "execution_count": null,
   "id": "bedd185e-a788-4ff7-8650-933ebf5e3a76",
   "metadata": {},
   "outputs": [],
   "source": []
  },
  {
   "cell_type": "code",
   "execution_count": null,
   "id": "59f9c7de-2b20-44f8-a1e8-57c757ab5d59",
   "metadata": {},
   "outputs": [],
   "source": []
  }
 ],
 "metadata": {
  "kernelspec": {
   "display_name": "Python 3 (ipykernel)",
   "language": "python",
   "name": "python3"
  },
  "language_info": {
   "codemirror_mode": {
    "name": "ipython",
    "version": 3
   },
   "file_extension": ".py",
   "mimetype": "text/x-python",
   "name": "python",
   "nbconvert_exporter": "python",
   "pygments_lexer": "ipython3",
   "version": "3.12.7"
  }
 },
 "nbformat": 4,
 "nbformat_minor": 5
}
